{
 "cells": [
  {
   "cell_type": "markdown",
   "id": "06e0e1f5-2f8a-4770-95de-75c8bae8deab",
   "metadata": {
    "deletable": false,
    "editable": false
   },
   "source": [
    "# Additive Factors Model (AFM) Implementation\n",
    "This notebook provides a python implementation of the AFM student model.\n",
    "The AFM model calculates the probability of a student carrying out correctly a step based on the prior attempts (opportunities).\n",
    "\n",
    "Please review and execute the implementation steps taking into account what we learned about the rule space student models and the Q-matrix."
   ]
  },
  {
   "cell_type": "markdown",
   "id": "724163ce-b215-4896-8cf6-ebc7c376c530",
   "metadata": {
    "deletable": false,
    "editable": false
   },
   "source": [
    "## Initializing the environment\n",
    "First, we import the required libraries for handling data and training the machine learning model. We deactivate potential warnings for readability purposes."
   ]
  },
  {
   "cell_type": "code",
   "execution_count": 2,
   "id": "3684a1de-a3f5-4a30-8981-ab451c96a8a7",
   "metadata": {
    "deletable": false,
    "editable": false
   },
   "outputs": [],
   "source": [
    "import pandas as pd\n",
    "import numpy as np\n",
    "import warnings\n",
    "\n",
    "from sklearn.linear_model import LogisticRegression\n",
    "from sklearn.model_selection import train_test_split\n",
    "from sklearn.metrics import log_loss\n",
    "from patsy import dmatrices\n",
    "from sklearn.metrics import f1_score, precision_score, recall_score, brier_score_loss\n",
    "from sklearn.model_selection import KFold\n",
    "from sklearn.model_selection import cross_val_score\n",
    "\n",
    "warnings.filterwarnings('ignore')"
   ]
  },
  {
   "cell_type": "markdown",
   "id": "f3dbe604-e9fc-4317-90db-3dd30083a6df",
   "metadata": {
    "deletable": false,
    "editable": false
   },
   "source": [
    "## Data preparation\n",
    "We define the function **feature_engineering()** that transforms the student data values into the appropriate types"
   ]
  },
  {
   "cell_type": "code",
   "execution_count": 3,
   "id": "89788a8a-5cfe-4351-a5b7-7029f79ca0a1",
   "metadata": {
    "deletable": false,
    "editable": false
   },
   "outputs": [],
   "source": [
    " def feature_engineering(df):\n",
    "    df.loc[ df['First Attempt'] == 'incorrect', 'First Attempt'] = 0\n",
    "    df.loc[ df['First Attempt'] == 'hint', 'First Attempt'] = 0\n",
    "    df.loc[ df['First Attempt'] == 'correct', 'First Attempt'] = 1\n",
    "    df = df[(df['First Attempt']==0) | (df['First Attempt']==1)]\n",
    "\n",
    "    df=df.dropna()\n",
    "    df.insert(loc=len(df.columns),column='Outcome',value=df['First Attempt'])\n",
    "\n",
    "    df.rename(columns={'KC (Default)': 'KCModel', 'Opportunity': 'OpportunityModel'}, inplace=True)\n",
    "\n",
    "    df.rename(columns={'Corrects': 'CorrectModel', 'Incorrects': 'IncorrectModel'}, inplace=True)\n",
    "\n",
    "    df.rename(columns={'Hints': 'TellsModel'}, inplace=True)\n",
    "    return df"
   ]
  },
  {
   "cell_type": "markdown",
   "id": "4514b004-21ac-421c-bb3d-77eb76f5e7dc",
   "metadata": {
    "deletable": false,
    "editable": false
   },
   "source": [
    "## Model Training and Testing\n",
    "For the model's implementation, we will use Logistic Regression and the python library scikit-learn.\n",
    "The function **trainModel()** splits the dataset into a training and a test dataset following the 80/20 (Paretto) principle.\n",
    "Then, we use the \"train\" subset to train the model and the \"test\" subset to test the model.\n",
    "\n",
    "The prediction values are stored in the variable *\"y_pred\"* while the actual values are stored in the variable *\"y_test\"*.\n",
    "By comparing the variables *\"y_pred\"* and *\"y_test\"*, we can assess the performance of the predictive model.\n",
    "To do so, we use the following measures: RMSE, f1, precision and recall since our model practically works as a binary classifier to predict correct or incorrect student steps.\n",
    "\n"
   ]
  },
  {
   "cell_type": "code",
   "execution_count": 4,
   "id": "e4bdbcd1-0d3e-4ba7-839c-3d9a168b23f8",
   "metadata": {
    "deletable": false,
    "editable": false
   },
   "outputs": [],
   "source": [
    "def trainModel(df,modeltype,X):\n",
    "\n",
    "    y = df['Outcome']\n",
    "    y= y.astype('int')\n",
    "\n",
    "    X_train,X_test,y_train,y_test=train_test_split(X, y, test_size=0.2, random_state=0)\n",
    "    TrainTestSplitModel=LogisticRegression(max_iter=1000,penalty='l2')   \n",
    "    TrainTestSplitModel.fit(X_train,y_train)\n",
    "\n",
    "    y_pred=TrainTestSplitModel.predict(X_test)\n",
    "    RMSE=np.sqrt(np.mean((y_test-y_pred)**2))\n",
    "    f1=f1_score(y_test, y_pred, average=\"macro\")\n",
    "    precision=precision_score(y_test, y_pred, average=\"macro\")\n",
    "    recall=recall_score(y_test, y_pred, average=\"macro\")    \n",
    "\n",
    "    return (RMSE, f1, precision, recall)"
   ]
  },
  {
   "cell_type": "markdown",
   "id": "c808477b-9d23-46a3-a801-156e3d9b02ee",
   "metadata": {
    "deletable": false,
    "editable": false
   },
   "source": [
    "## Read data\n",
    "Now, lets import an example dataset which we will use for training and testing the model.\n",
    "First, we read the dataset from the excel file \"Example\" and we save it as a pandas dataframe.\n",
    "\n",
    "Then, we call the function **feature_engineering()** to pre-process and prepare the data."
   ]
  },
  {
   "cell_type": "code",
   "execution_count": 5,
   "id": "5834614f-4b69-4892-96da-48693d8d99be",
   "metadata": {
    "deletable": false,
    "editable": false
   },
   "outputs": [
    {
     "data": {
      "text/html": [
       "<div>\n",
       "<style scoped>\n",
       "    .dataframe tbody tr th:only-of-type {\n",
       "        vertical-align: middle;\n",
       "    }\n",
       "\n",
       "    .dataframe tbody tr th {\n",
       "        vertical-align: top;\n",
       "    }\n",
       "\n",
       "    .dataframe thead th {\n",
       "        text-align: right;\n",
       "    }\n",
       "</style>\n",
       "<table border=\"1\" class=\"dataframe\">\n",
       "  <thead>\n",
       "    <tr style=\"text-align: right;\">\n",
       "      <th></th>\n",
       "      <th>Row</th>\n",
       "      <th>AnonStudentId</th>\n",
       "      <th>First Attempt</th>\n",
       "      <th>KC (Default)</th>\n",
       "      <th>Incorrects</th>\n",
       "      <th>Hints</th>\n",
       "      <th>Corrects</th>\n",
       "      <th>Opportunity</th>\n",
       "    </tr>\n",
       "  </thead>\n",
       "  <tbody>\n",
       "    <tr>\n",
       "      <th>0</th>\n",
       "      <td>1</td>\n",
       "      <td>Stu_1</td>\n",
       "      <td>correct</td>\n",
       "      <td>KC12</td>\n",
       "      <td>1</td>\n",
       "      <td>14</td>\n",
       "      <td>1</td>\n",
       "      <td>10.0</td>\n",
       "    </tr>\n",
       "    <tr>\n",
       "      <th>1</th>\n",
       "      <td>2</td>\n",
       "      <td>Stu_1</td>\n",
       "      <td>unknown</td>\n",
       "      <td>NaN</td>\n",
       "      <td>1</td>\n",
       "      <td>14</td>\n",
       "      <td>1</td>\n",
       "      <td>1.0</td>\n",
       "    </tr>\n",
       "    <tr>\n",
       "      <th>2</th>\n",
       "      <td>3</td>\n",
       "      <td>Stu_1</td>\n",
       "      <td>unknown</td>\n",
       "      <td>KC8</td>\n",
       "      <td>1</td>\n",
       "      <td>9</td>\n",
       "      <td>0</td>\n",
       "      <td>2.0</td>\n",
       "    </tr>\n",
       "    <tr>\n",
       "      <th>3</th>\n",
       "      <td>4</td>\n",
       "      <td>Stu_1</td>\n",
       "      <td>unknown</td>\n",
       "      <td>KC9</td>\n",
       "      <td>5</td>\n",
       "      <td>8</td>\n",
       "      <td>1</td>\n",
       "      <td>NaN</td>\n",
       "    </tr>\n",
       "    <tr>\n",
       "      <th>4</th>\n",
       "      <td>5</td>\n",
       "      <td>Stu_1</td>\n",
       "      <td>correct</td>\n",
       "      <td>KC10</td>\n",
       "      <td>1</td>\n",
       "      <td>8</td>\n",
       "      <td>1</td>\n",
       "      <td>4.0</td>\n",
       "    </tr>\n",
       "  </tbody>\n",
       "</table>\n",
       "</div>"
      ],
      "text/plain": [
       "   Row AnonStudentId First Attempt KC (Default)  Incorrects  Hints  Corrects  \\\n",
       "0    1         Stu_1       correct         KC12           1     14         1   \n",
       "1    2         Stu_1       unknown          NaN           1     14         1   \n",
       "2    3         Stu_1       unknown          KC8           1      9         0   \n",
       "3    4         Stu_1       unknown          KC9           5      8         1   \n",
       "4    5         Stu_1       correct         KC10           1      8         1   \n",
       "\n",
       "   Opportunity  \n",
       "0         10.0  \n",
       "1          1.0  \n",
       "2          2.0  \n",
       "3          NaN  \n",
       "4          4.0  "
      ]
     },
     "execution_count": 5,
     "metadata": {},
     "output_type": "execute_result"
    }
   ],
   "source": [
    "datalink = \"https://drive.google.com/uc?export=download&id=1c121feuMH0BJBWU5FDr3wAm1OMquF7pl\"\n",
    "df = pd.read_csv(datalink)\n",
    "df.head()"
   ]
  },
  {
   "cell_type": "code",
   "execution_count": 6,
   "id": "83d0ac83-7111-4320-909f-a7b0a0c0c903",
   "metadata": {
    "deletable": false,
    "editable": false
   },
   "outputs": [
    {
     "data": {
      "text/html": [
       "<div>\n",
       "<style scoped>\n",
       "    .dataframe tbody tr th:only-of-type {\n",
       "        vertical-align: middle;\n",
       "    }\n",
       "\n",
       "    .dataframe tbody tr th {\n",
       "        vertical-align: top;\n",
       "    }\n",
       "\n",
       "    .dataframe thead th {\n",
       "        text-align: right;\n",
       "    }\n",
       "</style>\n",
       "<table border=\"1\" class=\"dataframe\">\n",
       "  <thead>\n",
       "    <tr style=\"text-align: right;\">\n",
       "      <th></th>\n",
       "      <th>Row</th>\n",
       "      <th>AnonStudentId</th>\n",
       "      <th>First Attempt</th>\n",
       "      <th>KCModel</th>\n",
       "      <th>IncorrectModel</th>\n",
       "      <th>TellsModel</th>\n",
       "      <th>CorrectModel</th>\n",
       "      <th>OpportunityModel</th>\n",
       "      <th>Outcome</th>\n",
       "    </tr>\n",
       "  </thead>\n",
       "  <tbody>\n",
       "    <tr>\n",
       "      <th>0</th>\n",
       "      <td>1</td>\n",
       "      <td>Stu_1</td>\n",
       "      <td>1</td>\n",
       "      <td>KC12</td>\n",
       "      <td>1</td>\n",
       "      <td>14</td>\n",
       "      <td>1</td>\n",
       "      <td>10.0</td>\n",
       "      <td>1</td>\n",
       "    </tr>\n",
       "    <tr>\n",
       "      <th>4</th>\n",
       "      <td>5</td>\n",
       "      <td>Stu_1</td>\n",
       "      <td>1</td>\n",
       "      <td>KC10</td>\n",
       "      <td>1</td>\n",
       "      <td>8</td>\n",
       "      <td>1</td>\n",
       "      <td>4.0</td>\n",
       "      <td>1</td>\n",
       "    </tr>\n",
       "    <tr>\n",
       "      <th>6</th>\n",
       "      <td>7</td>\n",
       "      <td>Stu_1</td>\n",
       "      <td>1</td>\n",
       "      <td>KC11</td>\n",
       "      <td>0</td>\n",
       "      <td>7</td>\n",
       "      <td>1</td>\n",
       "      <td>8.0</td>\n",
       "      <td>1</td>\n",
       "    </tr>\n",
       "    <tr>\n",
       "      <th>7</th>\n",
       "      <td>8</td>\n",
       "      <td>Stu_1</td>\n",
       "      <td>1</td>\n",
       "      <td>KC17</td>\n",
       "      <td>0</td>\n",
       "      <td>6</td>\n",
       "      <td>1</td>\n",
       "      <td>11.0</td>\n",
       "      <td>1</td>\n",
       "    </tr>\n",
       "    <tr>\n",
       "      <th>10</th>\n",
       "      <td>11</td>\n",
       "      <td>Stu_1</td>\n",
       "      <td>0</td>\n",
       "      <td>KC14</td>\n",
       "      <td>3</td>\n",
       "      <td>5</td>\n",
       "      <td>1</td>\n",
       "      <td>12.0</td>\n",
       "      <td>0</td>\n",
       "    </tr>\n",
       "  </tbody>\n",
       "</table>\n",
       "</div>"
      ],
      "text/plain": [
       "    Row AnonStudentId First Attempt KCModel  IncorrectModel  TellsModel  \\\n",
       "0     1         Stu_1             1    KC12               1          14   \n",
       "4     5         Stu_1             1    KC10               1           8   \n",
       "6     7         Stu_1             1    KC11               0           7   \n",
       "7     8         Stu_1             1    KC17               0           6   \n",
       "10   11         Stu_1             0    KC14               3           5   \n",
       "\n",
       "    CorrectModel  OpportunityModel Outcome  \n",
       "0              1              10.0       1  \n",
       "4              1               4.0       1  \n",
       "6              1               8.0       1  \n",
       "7              1              11.0       1  \n",
       "10             1              12.0       0  "
      ]
     },
     "execution_count": 6,
     "metadata": {},
     "output_type": "execute_result"
    }
   ],
   "source": [
    "data = feature_engineering(df)\n",
    "data.head()"
   ]
  },
  {
   "cell_type": "markdown",
   "id": "56d4ea5c-124b-4fe0-901a-bfcd245eeead",
   "metadata": {
    "deletable": false,
    "editable": false
   },
   "source": [
    "## Define the model's function\n",
    "\n",
    "Here we define the logistic regression function for the AFM model. Remember, the AFM model calculates the probability of correctness based on the student's prior opportunities in the respective Knowledge Components (KCs).\n",
    "The function **dmatrices()** prepares the X(input) and y(output) data that we will use for training and testing the model."
   ]
  },
  {
   "cell_type": "code",
   "execution_count": null,
   "id": "b8c4831b-a4a6-4fd3-9b2d-c1c872366132",
   "metadata": {
    "deletable": false,
    "editable": false
   },
   "outputs": [],
   "source": [
    "#specify the model type\n",
    "modeltype=\"AFM\"\n",
    "#specify the model function\n",
    "y, X = dmatrices('Outcome ~ AnonStudentId + KCModel+ KCModel:OpportunityModel', data,return_type=\"dataframe\")"
   ]
  },
  {
   "cell_type": "code",
   "execution_count": null,
   "id": "e3b3977b-18b5-4b34-b494-23342f752ce5",
   "metadata": {
    "deletable": false,
    "editable": false
   },
   "outputs": [],
   "source": [
    "(RMSE, f1, precision, recall)=trainModel(data,modeltype,X)\n",
    "print(RMSE, f1, precision, recall)"
   ]
  },
  {
   "cell_type": "markdown",
   "id": "ca3ada87-de2a-4ab4-bfc6-fcbd69a26967",
   "metadata": {
    "deletable": false,
    "editable": false
   },
   "source": [
    "**QUESTION**\n",
    "When splitting the dataset into train and test subsets, we followed an 80/20 split.\n",
    "If we change the split to 50/50, how does this affect the performance of the model? \n",
    "Please change the code below accordingly and calculate again the values for RMSE, f1, precision and recall."
   ]
  },
  {
   "cell_type": "code",
   "execution_count": null,
   "id": "43f4a7ac-87e9-4013-beb9-cb4af10ddc4c",
   "metadata": {
    "deletable": false,
    "editable": true
   },
   "outputs": [],
   "source": [
    "# TODO: Set test_size to 0.5 for 50/50 split\n",
    "def trainModel5050(df,modeltype,X):\n",
    "\n",
    "    y = df['Outcome']\n",
    "    y= y.astype('int')\n",
    "\n",
    "    X_train,X_test,y_train,y_test=train_test_split(X, y, test_size=, random_state=0)\n",
    "    TrainTestSplitModel=LogisticRegression(max_iter=1000,penalty='l2')   \n",
    "    TrainTestSplitModel.fit(X_train,y_train)\n",
    "\n",
    "    y_pred=TrainTestSplitModel.predict(X_test)\n",
    "    RMSE=np.sqrt(np.mean((y_test-y_pred)**2))\n",
    "    f1=f1_score(y_test, y_pred, average=\"macro\")\n",
    "    precision=precision_score(y_test, y_pred, average=\"macro\")\n",
    "    recall=recall_score(y_test, y_pred, average=\"macro\")    \n",
    "\n",
    "    return (RMSE, f1, precision, recall)\n",
    "\n",
    "(RMSE, f1, precision, recall)=trainModel5050(data,modeltype,X)\n",
    "print(RMSE, f1, precision, recall)"
   ]
  }
 ],
 "metadata": {
  "kernelspec": {
   "display_name": "Python 3 (ipykernel)",
   "language": "python",
   "name": "python3"
  },
  "language_info": {
   "codemirror_mode": {
    "name": "ipython",
    "version": 3
   },
   "file_extension": ".py",
   "mimetype": "text/x-python",
   "name": "python",
   "nbconvert_exporter": "python",
   "pygments_lexer": "ipython3",
   "version": "3.10.16"
  }
 },
 "nbformat": 4,
 "nbformat_minor": 5
}
