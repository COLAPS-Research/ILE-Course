{
 "cells": [
  {
   "cell_type": "markdown",
   "id": "35bf57b7-f0b7-4898-92e9-b09673091ed8",
   "metadata": {
    "deletable": false,
    "editable": false
   },
   "source": [
    "# Contents\n",
    "- [Bayesian Knowledge Tracing](#Bayesian-Knowledge-Tracing)\n",
    "- [A simple BKT Implementation](#A-simple-BKT-Implementation)\n",
    "- [pyBKT (Optional: Try out yourself!)](#pyBKT (Optional: Try out yourself!))"
   ]
  },
  {
   "cell_type": "markdown",
   "id": "0930bb3f-18bd-49e7-acfc-4ff1b8e19bbe",
   "metadata": {
    "deletable": false,
    "editable": false
   },
   "source": [
    "# Bayesian Knowledge Tracing"
   ]
  },
  {
   "cell_type": "markdown",
   "id": "1cf35acc-69fc-440e-917b-87f2a669b65f",
   "metadata": {
    "deletable": false,
    "editable": false
   },
   "source": [
    "Bayesian Knowledge Tracing (BKT) is used to model student mastery of skills.  \n",
    "Expectation-Maximization (EM) algorithm is used to estimate the parameters of the BKT model for a given skill."
   ]
  },
  {
   "cell_type": "markdown",
   "id": "53f0cd91-3f2e-4ca3-adc9-1208d8fca0d8",
   "metadata": {
    "deletable": false,
    "editable": false
   },
   "source": [
    "### Model Parameters:\n",
    "\n",
    "- $P(L_0)$: – the probability of the student knowing the skill beforehand.\n",
    "- $P(T)$: – is used to compute the probability a student will master a skill at each answer opportunity.\n",
    "- $P(S)$: – represents the probability of the student solving a problem without having mastered the skill.\n",
    "- $P(G)$: – represents the probability of the student making a mistake applying a skill they have mastered.\n",
    "\n",
    "### Bayesian Update:\n",
    "\n",
    "Given a student's current knowledge $P(L)$ and whether they answered correctly ($correct = 1$) or not ($correct = 0$):\n",
    "\n",
    "- Predict probability of a correct response:\n",
    "\n",
    "  $$\n",
    "  P(\\text{Correct}) = P(L) \\cdot (1 - P(S)) + (1 - P(L)) \\cdot P(G)\n",
    "  $$\n",
    "\n",
    "- After observing the student's response, update knowledge estimate:\n",
    "\n",
    "  - If correct:\n",
    "  \n",
    "    $$\n",
    "    P(L|Correct) = \\frac{P(L) \\cdot (1 - P(S))}{P(\\text{Correct})}\n",
    "    $$\n",
    "\n",
    "  - If incorrect:\n",
    "  \n",
    "    $$\n",
    "    P(L|Incorrect) = \\frac{P(L) \\cdot P(S)}{P(L) \\cdot P(S) + (1 - P(L)) \\cdot (1 - P(G))}\n",
    "    $$\n",
    "\n",
    "- Apply learning (transition) step:\n",
    "\n",
    "  $$\n",
    "  P(L) \\leftarrow P(L|obs) + (1 - P(L|obs)) \\cdot P(T)\n",
    "  $$\n",
    "\n",
    "### EM Procedure:\n",
    "\n",
    "1. **E-step**: For each student and observation, compute the posterior knowledge state $P(L∣obs)$ using current parameters.\n",
    "2. **M-step**: Update parameters based on observed transitions and outcomes.\n",
    "3. Repeat until parameters converge (changes are below a small tolerance).\n"
   ]
  },
  {
   "cell_type": "markdown",
   "id": "9e1209d4-1c52-4692-9b7b-79f968454e5c",
   "metadata": {
    "deletable": false,
    "editable": false
   },
   "source": [
    "# A simple BKT Implementation"
   ]
  },
  {
   "cell_type": "markdown",
   "id": "00677691-3f6a-4308-9916-29b058bffe20",
   "metadata": {
    "deletable": false,
    "editable": false
   },
   "source": [
    "### (1) Imports and Load Data"
   ]
  },
  {
   "cell_type": "code",
   "execution_count": 12,
   "id": "ae21e750-f012-4c18-8105-016219a81551",
   "metadata": {
    "deletable": false,
    "editable": false,
    "identifier": "ILE_BKT_1_1"
   },
   "outputs": [
    {
     "data": {
      "text/html": [
       "<div>\n",
       "<style scoped>\n",
       "    .dataframe tbody tr th:only-of-type {\n",
       "        vertical-align: middle;\n",
       "    }\n",
       "\n",
       "    .dataframe tbody tr th {\n",
       "        vertical-align: top;\n",
       "    }\n",
       "\n",
       "    .dataframe thead th {\n",
       "        text-align: right;\n",
       "    }\n",
       "</style>\n",
       "<table border=\"1\" class=\"dataframe\">\n",
       "  <thead>\n",
       "    <tr style=\"text-align: right;\">\n",
       "      <th></th>\n",
       "      <th>Unnamed: 0</th>\n",
       "      <th>Row</th>\n",
       "      <th>Anon Student Id</th>\n",
       "      <th>Problem Hierarchy</th>\n",
       "      <th>Problem Name</th>\n",
       "      <th>Problem View</th>\n",
       "      <th>Step Name</th>\n",
       "      <th>Step Start Time</th>\n",
       "      <th>First Transaction Time</th>\n",
       "      <th>Correct Transaction Time</th>\n",
       "      <th>Step End Time</th>\n",
       "      <th>Step Duration (sec)</th>\n",
       "      <th>Correct Step Duration (sec)</th>\n",
       "      <th>Error Step Duration (sec)</th>\n",
       "      <th>Correct First Attempt</th>\n",
       "      <th>Incorrects</th>\n",
       "      <th>Hints</th>\n",
       "      <th>Corrects</th>\n",
       "      <th>KC(Default)</th>\n",
       "      <th>Opportunity(Default)</th>\n",
       "    </tr>\n",
       "  </thead>\n",
       "  <tbody>\n",
       "    <tr>\n",
       "      <th>0</th>\n",
       "      <td>1576</td>\n",
       "      <td>1927</td>\n",
       "      <td>745Yh</td>\n",
       "      <td>Unit RATIO-PROPORTION, Section RATIO-PROPORTION-2</td>\n",
       "      <td>RATIO2-001</td>\n",
       "      <td>1</td>\n",
       "      <td>SimplifiedNumeratorQuantity1</td>\n",
       "      <td>2006-11-14 10:18:00.0</td>\n",
       "      <td>2006-11-14 10:18:05.0</td>\n",
       "      <td>2006-11-14 10:18:05.0</td>\n",
       "      <td>2006-11-14 10:18:05.0</td>\n",
       "      <td>5.0</td>\n",
       "      <td>5.0</td>\n",
       "      <td>NaN</td>\n",
       "      <td>1</td>\n",
       "      <td>0</td>\n",
       "      <td>0</td>\n",
       "      <td>1</td>\n",
       "      <td>Calculate unit rate</td>\n",
       "      <td>1</td>\n",
       "    </tr>\n",
       "    <tr>\n",
       "      <th>1</th>\n",
       "      <td>1580</td>\n",
       "      <td>1931</td>\n",
       "      <td>745Yh</td>\n",
       "      <td>Unit RATIO-PROPORTION, Section RATIO-PROPORTION-2</td>\n",
       "      <td>RATIO2-001</td>\n",
       "      <td>1</td>\n",
       "      <td>SimplifiedNumeratorQuantity2</td>\n",
       "      <td>2006-11-14 10:18:11.0</td>\n",
       "      <td>2006-11-14 10:18:17.0</td>\n",
       "      <td>2006-11-14 10:18:34.0</td>\n",
       "      <td>2006-11-14 10:18:34.0</td>\n",
       "      <td>23.0</td>\n",
       "      <td>NaN</td>\n",
       "      <td>23.0</td>\n",
       "      <td>0</td>\n",
       "      <td>1</td>\n",
       "      <td>0</td>\n",
       "      <td>1</td>\n",
       "      <td>Calculate unit rate</td>\n",
       "      <td>2</td>\n",
       "    </tr>\n",
       "    <tr>\n",
       "      <th>2</th>\n",
       "      <td>1596</td>\n",
       "      <td>1947</td>\n",
       "      <td>745Yh</td>\n",
       "      <td>Unit RATIO-PROPORTION, Section RATIO-PROPORTION-2</td>\n",
       "      <td>RATIO2-012</td>\n",
       "      <td>1</td>\n",
       "      <td>SimplifiedNumeratorQuantity1</td>\n",
       "      <td>2006-11-14 10:50:52.0</td>\n",
       "      <td>2006-11-14 10:50:57.0</td>\n",
       "      <td>2006-11-14 10:51:11.0</td>\n",
       "      <td>2006-11-14 10:51:11.0</td>\n",
       "      <td>18.0</td>\n",
       "      <td>NaN</td>\n",
       "      <td>18.0</td>\n",
       "      <td>0</td>\n",
       "      <td>1</td>\n",
       "      <td>0</td>\n",
       "      <td>1</td>\n",
       "      <td>Calculate unit rate</td>\n",
       "      <td>3</td>\n",
       "    </tr>\n",
       "    <tr>\n",
       "      <th>3</th>\n",
       "      <td>1597</td>\n",
       "      <td>1948</td>\n",
       "      <td>745Yh</td>\n",
       "      <td>Unit RATIO-PROPORTION, Section RATIO-PROPORTION-2</td>\n",
       "      <td>RATIO2-012</td>\n",
       "      <td>1</td>\n",
       "      <td>SimplifiedNumeratorQuantity2</td>\n",
       "      <td>2006-11-14 10:51:11.0</td>\n",
       "      <td>2006-11-14 10:51:14.0</td>\n",
       "      <td>2006-11-14 10:51:14.0</td>\n",
       "      <td>2006-11-14 10:51:14.0</td>\n",
       "      <td>3.0</td>\n",
       "      <td>3.0</td>\n",
       "      <td>NaN</td>\n",
       "      <td>1</td>\n",
       "      <td>0</td>\n",
       "      <td>0</td>\n",
       "      <td>1</td>\n",
       "      <td>Calculate unit rate</td>\n",
       "      <td>4</td>\n",
       "    </tr>\n",
       "    <tr>\n",
       "      <th>4</th>\n",
       "      <td>1612</td>\n",
       "      <td>1963</td>\n",
       "      <td>745Yh</td>\n",
       "      <td>Unit RATIO-PROPORTION, Section RATIO-PROPORTION-2</td>\n",
       "      <td>RATIO2-054</td>\n",
       "      <td>1</td>\n",
       "      <td>SimplifiedNumeratorQuantity2</td>\n",
       "      <td>2006-11-28 09:53:43.0</td>\n",
       "      <td>2006-11-28 09:53:47.0</td>\n",
       "      <td>2006-11-28 09:53:56.0</td>\n",
       "      <td>2006-11-28 09:53:56.0</td>\n",
       "      <td>13.0</td>\n",
       "      <td>NaN</td>\n",
       "      <td>13.0</td>\n",
       "      <td>0</td>\n",
       "      <td>1</td>\n",
       "      <td>0</td>\n",
       "      <td>1</td>\n",
       "      <td>Calculate unit rate</td>\n",
       "      <td>5</td>\n",
       "    </tr>\n",
       "  </tbody>\n",
       "</table>\n",
       "</div>"
      ],
      "text/plain": [
       "   Unnamed: 0   Row Anon Student Id  \\\n",
       "0        1576  1927           745Yh   \n",
       "1        1580  1931           745Yh   \n",
       "2        1596  1947           745Yh   \n",
       "3        1597  1948           745Yh   \n",
       "4        1612  1963           745Yh   \n",
       "\n",
       "                                   Problem Hierarchy Problem Name  \\\n",
       "0  Unit RATIO-PROPORTION, Section RATIO-PROPORTION-2   RATIO2-001   \n",
       "1  Unit RATIO-PROPORTION, Section RATIO-PROPORTION-2   RATIO2-001   \n",
       "2  Unit RATIO-PROPORTION, Section RATIO-PROPORTION-2   RATIO2-012   \n",
       "3  Unit RATIO-PROPORTION, Section RATIO-PROPORTION-2   RATIO2-012   \n",
       "4  Unit RATIO-PROPORTION, Section RATIO-PROPORTION-2   RATIO2-054   \n",
       "\n",
       "   Problem View                     Step Name        Step Start Time  \\\n",
       "0             1  SimplifiedNumeratorQuantity1  2006-11-14 10:18:00.0   \n",
       "1             1  SimplifiedNumeratorQuantity2  2006-11-14 10:18:11.0   \n",
       "2             1  SimplifiedNumeratorQuantity1  2006-11-14 10:50:52.0   \n",
       "3             1  SimplifiedNumeratorQuantity2  2006-11-14 10:51:11.0   \n",
       "4             1  SimplifiedNumeratorQuantity2  2006-11-28 09:53:43.0   \n",
       "\n",
       "  First Transaction Time Correct Transaction Time          Step End Time  \\\n",
       "0  2006-11-14 10:18:05.0    2006-11-14 10:18:05.0  2006-11-14 10:18:05.0   \n",
       "1  2006-11-14 10:18:17.0    2006-11-14 10:18:34.0  2006-11-14 10:18:34.0   \n",
       "2  2006-11-14 10:50:57.0    2006-11-14 10:51:11.0  2006-11-14 10:51:11.0   \n",
       "3  2006-11-14 10:51:14.0    2006-11-14 10:51:14.0  2006-11-14 10:51:14.0   \n",
       "4  2006-11-28 09:53:47.0    2006-11-28 09:53:56.0  2006-11-28 09:53:56.0   \n",
       "\n",
       "   Step Duration (sec)  Correct Step Duration (sec)  \\\n",
       "0                  5.0                          5.0   \n",
       "1                 23.0                          NaN   \n",
       "2                 18.0                          NaN   \n",
       "3                  3.0                          3.0   \n",
       "4                 13.0                          NaN   \n",
       "\n",
       "   Error Step Duration (sec)  Correct First Attempt  Incorrects  Hints  \\\n",
       "0                        NaN                      1           0      0   \n",
       "1                       23.0                      0           1      0   \n",
       "2                       18.0                      0           1      0   \n",
       "3                        NaN                      1           0      0   \n",
       "4                       13.0                      0           1      0   \n",
       "\n",
       "   Corrects          KC(Default)  Opportunity(Default)  \n",
       "0         1  Calculate unit rate                     1  \n",
       "1         1  Calculate unit rate                     2  \n",
       "2         1  Calculate unit rate                     3  \n",
       "3         1  Calculate unit rate                     4  \n",
       "4         1  Calculate unit rate                     5  "
      ]
     },
     "execution_count": 12,
     "metadata": {},
     "output_type": "execute_result"
    }
   ],
   "source": [
    "import pandas as pd\n",
    "import numpy as np\n",
    "from sklearn.model_selection import train_test_split\n",
    "from sklearn.metrics import mean_squared_error, f1_score, precision_score, recall_score\n",
    "\n",
    "data_1 = \"https://raw.githubusercontent.com/CAHLR/pyBKT-examples/master/data/as.csv\"\n",
    "data_2 = \"https://raw.githubusercontent.com/CAHLR/pyBKT-examples/master/data/ct.csv\"\n",
    "\n",
    "df_1 = pd.read_csv(data_1, encoding='latin', low_memory=False)\n",
    "df_2 = pd.read_csv(data_2, encoding='latin')\n",
    "\n",
    "df_2.head(5)"
   ]
  },
  {
   "cell_type": "markdown",
   "id": "8fc96c33-588b-45b7-9ff9-6bbb5da04b02",
   "metadata": {
    "deletable": false,
    "editable": false
   },
   "source": [
    "avaiable dataset: "
   ]
  },
  {
   "cell_type": "code",
   "execution_count": 7,
   "id": "623d7cd3-e2d4-4677-972a-81e18afe4240",
   "metadata": {
    "deletable": false,
    "editable": false,
    "identifier": "ILE_BKT_1_2"
   },
   "outputs": [
    {
     "name": "stdout",
     "output_type": "stream",
     "text": [
      "Index(['Unnamed: 0', 'Row', 'Anon Student Id', 'Problem Hierarchy',\n",
      "       'Problem Name', 'Problem View', 'Step Name', 'Step Start Time',\n",
      "       'First Transaction Time', 'Correct Transaction Time', 'Step End Time',\n",
      "       'Step Duration (sec)', 'Correct Step Duration (sec)',\n",
      "       'Error Step Duration (sec)', 'Correct First Attempt', 'Incorrects',\n",
      "       'Hints', 'Corrects', 'KC(Default)', 'Opportunity(Default)'],\n",
      "      dtype='object')\n"
     ]
    }
   ],
   "source": [
    "print(df_2.columns)"
   ]
  },
  {
   "cell_type": "markdown",
   "id": "7f51862e-f5d9-45e9-9b38-c9540f273673",
   "metadata": {
    "deletable": false,
    "editable": false
   },
   "source": [
    "### (2) Bayesian update student knowledge "
   ]
  },
  {
   "cell_type": "code",
   "execution_count": 13,
   "id": "506ac7b8-9215-40ca-a430-23503010dc94",
   "metadata": {
    "deletable": false,
    "identifier": "ILE_BKT_1_3"
   },
   "outputs": [],
   "source": [
    "def bayesian_update(P_L, correct, P_S, P_G, P_T):\n",
    "    p_correct = P_L * (1 - P_S) + (1 - P_L) * P_G\n",
    "    if correct == 1:\n",
    "        numer = P_L * (1 - P_S)\n",
    "        denom = p_correct\n",
    "    else:\n",
    "        numer = P_L * P_S\n",
    "        denom = P_L * P_S + (1 - P_L) * (1 - P_G)\n",
    "\n",
    "    p_L_given_obs = numer / denom if denom > 0 else P_L\n",
    "    \n",
    "    '''\n",
    "    TODO: \n",
    "            1. Calculate p_L_updated\n",
    "            2. return values of p_L_updated and p_correct\n",
    "    '''\n",
    "    raise NotImplementedError"
   ]
  },
  {
   "cell_type": "markdown",
   "id": "831d04d2-3d5f-4dcc-95b3-862eb8140fab",
   "metadata": {
    "deletable": false,
    "editable": false
   },
   "source": [
    "### (3) Update parameters"
   ]
  },
  {
   "cell_type": "code",
   "execution_count": 14,
   "id": "497a8097-7f02-412b-9ba9-8e6ca39ff6cd",
   "metadata": {
    "deletable": false,
    "editable": false,
    "identifier": "ILE_BKT_1_4"
   },
   "outputs": [],
   "source": [
    "def update_parameters(df_skill, p_L_values, learning_rate=0.5):\n",
    "    P_L0 = np.mean([p[0] for p in p_L_values]) \n",
    "    P_T = np.mean([p[1] for p in p_L_values])\n",
    "    P_S = np.mean([p[2] for p in p_L_values]) \n",
    "    P_G = np.mean([p[3] for p in p_L_values])   \n",
    "    #print(f\"Parameter updates - P_T: {P_T}, P_S: {P_S}, P_G: {P_G}\")\n",
    "\n",
    "    P_T = P_T + learning_rate * (np.random.uniform(0.15, 0.25) - P_T)\n",
    "    P_S = P_S + learning_rate * (np.random.uniform(0.15, 0.25) - P_S)\n",
    "    P_G = P_G + learning_rate * (np.random.uniform(0.15, 0.25) - P_G)\n",
    "\n",
    "    return P_L0, P_T, P_S, P_G"
   ]
  },
  {
   "cell_type": "markdown",
   "id": "a78311b9-812d-4bb7-9938-c3d5f4675e42",
   "metadata": {
    "deletable": false,
    "editable": false
   },
   "source": [
    "### (4) Expectation-Maximization process"
   ]
  },
  {
   "cell_type": "code",
   "execution_count": 18,
   "id": "8621461b-a08c-4807-a07e-00e18851d13c",
   "metadata": {
    "deletable": false,
    "editable": false,
    "identifier": "ILE_BKT_1_5"
   },
   "outputs": [],
   "source": [
    "def bkt_em(df, max_iter=15, tolerance=1e-4):\n",
    "    skills = df['KC(Default)'].unique()\n",
    "    all_params = {}\n",
    "\n",
    "    for skill in skills:\n",
    "        print(f\"Training for skill: {skill}\")\n",
    "        df_skill = df[df['KC(Default)'] == skill].copy()\n",
    "        df_skill.sort_values(by=['Anon Student Id', 'Step Start Time'], inplace=True)\n",
    "\n",
    "        P_L0 = 0.2  # Initial guess for knowledge\n",
    "        P_T = 0.2   # Initial guess for learning rate\n",
    "        P_S = 0.2   # Initial guess for slip\n",
    "        P_G = 0.2   # Initial guess for guess rate\n",
    "\n",
    "        p_L_values = []\n",
    "        prev_params = [P_L0, P_T, P_S, P_G]\n",
    "\n",
    "        for iteration in range(max_iter):\n",
    "            # E-step: Estimate student knowledge (P(L)) and predict correctness\n",
    "            predictions = []\n",
    "            ground_truths = []\n",
    "            for student, group in df_skill.groupby('Anon Student Id'):\n",
    "                P_L = P_L0\n",
    "                for _, row in group.iterrows():\n",
    "                    correct = row['Correct First Attempt']\n",
    "                    P_L, p_correct = bayesian_update(P_L, correct, P_S, P_G, P_T)\n",
    "                    predictions.append(p_correct)\n",
    "                    ground_truths.append(correct)  \n",
    "                p_L_values.append([P_L, P_T, P_S, P_G])\n",
    "\n",
    "            # M-step: Update parameters using the estimated knowledge (P(L))\n",
    "            P_L0, P_T, P_S, P_G = update_parameters(df_skill, p_L_values)\n",
    "            #print(f\"Iteration {iteration + 1}: P(L0): {P_L0:.3f}, P(T): {P_T:.3f}, P(S): {P_S:.3f}, P(G): {P_G:.3f}\")\n",
    "            param_diff = np.abs(np.array([P_L0, P_T, P_S, P_G]) - np.array(prev_params))\n",
    "            if np.all(param_diff < tolerance):\n",
    "                print(f\"Converged at iteration {iteration + 1}. Parameters changed by less than {tolerance}.\")\n",
    "                break\n",
    "            prev_params = [P_L0, P_T, P_S, P_G]\n",
    "        all_params[skill] = {'P_L0': P_L0, 'P_T': P_T, 'P_S': P_S, 'P_G': P_G}\n",
    "\n",
    "    return all_params"
   ]
  },
  {
   "cell_type": "markdown",
   "id": "6c310070-2e87-4c13-b46c-02b1e130801f",
   "metadata": {
    "deletable": false,
    "editable": false
   },
   "source": [
    "### (5) Run BKT on skills"
   ]
  },
  {
   "cell_type": "code",
   "execution_count": 19,
   "id": "a0338f71-b493-4e75-bffd-3ea63f0caf48",
   "metadata": {
    "deletable": false,
    "editable": false,
    "identifier": "ILE_BKT_1_6"
   },
   "outputs": [
    {
     "name": "stdout",
     "output_type": "stream",
     "text": [
      "Training for skill: Calculate unit rate\n",
      "Training for skill: Calculate part in proportion with fractions\n",
      "Training for skill: Calculate total in proportion with fractions\n",
      "Training for skill: Plot whole number\n",
      "Training for skill: Plot terminating proper fraction\n",
      "Training for skill: Plot imperfect radical\n",
      "Training for skill: Plot non-terminating improper fraction\n",
      "Training for skill: Plot pi\n",
      "Training for skill: Plot decimal - thousandths\n",
      "Training for skill: Finding the intersection, SIF\n",
      "Training for skill: Finding the intersection, Mixed\n",
      "Training for skill: Finding the intersection, GLF\n",
      "Final learned parameters for Calculate unit rate:\n",
      "P(L0) = 0.985, P(T) = 0.207, P(S) = 0.190, P(G) = 0.173\n",
      "Final learned parameters for Calculate part in proportion with fractions:\n",
      "P(L0) = 0.956, P(T) = 0.199, P(S) = 0.207, P(G) = 0.207\n",
      "Final learned parameters for Calculate total in proportion with fractions:\n",
      "P(L0) = 0.946, P(T) = 0.194, P(S) = 0.218, P(G) = 0.179\n",
      "Final learned parameters for Plot whole number:\n",
      "P(L0) = 0.988, P(T) = 0.222, P(S) = 0.220, P(G) = 0.173\n",
      "Final learned parameters for Plot terminating proper fraction:\n",
      "P(L0) = 0.864, P(T) = 0.183, P(S) = 0.195, P(G) = 0.214\n",
      "Final learned parameters for Plot imperfect radical:\n",
      "P(L0) = 0.625, P(T) = 0.185, P(S) = 0.186, P(G) = 0.189\n",
      "Final learned parameters for Plot non-terminating improper fraction:\n",
      "P(L0) = 0.807, P(T) = 0.192, P(S) = 0.209, P(G) = 0.213\n",
      "Final learned parameters for Plot pi:\n",
      "P(L0) = 0.859, P(T) = 0.190, P(S) = 0.187, P(G) = 0.180\n",
      "Final learned parameters for Plot decimal - thousandths:\n",
      "P(L0) = 0.668, P(T) = 0.195, P(S) = 0.190, P(G) = 0.223\n",
      "Final learned parameters for Finding the intersection, SIF:\n",
      "P(L0) = 0.812, P(T) = 0.208, P(S) = 0.192, P(G) = 0.199\n",
      "Final learned parameters for Finding the intersection, Mixed:\n",
      "P(L0) = 0.828, P(T) = 0.176, P(S) = 0.218, P(G) = 0.192\n",
      "Final learned parameters for Finding the intersection, GLF:\n",
      "P(L0) = 0.879, P(T) = 0.213, P(S) = 0.176, P(G) = 0.191\n"
     ]
    }
   ],
   "source": [
    "all_skill_params = bkt_em(df_2)\n",
    "for skill, params in all_skill_params.items():\n",
    "    print(f\"Final learned parameters for {skill}:\")\n",
    "    print(f\"P(L0) = {params['P_L0']:.3f}, P(T) = {params['P_T']:.3f}, P(S) = {params['P_S']:.3f}, P(G) = {params['P_G']:.3f}\")"
   ]
  },
  {
   "cell_type": "markdown",
   "id": "0725fd5c-87a9-4e56-9088-01ba0a94c4f7",
   "metadata": {
    "deletable": false,
    "editable": false
   },
   "source": [
    "### (6) BKT Prediction"
   ]
  },
  {
   "cell_type": "code",
   "execution_count": 17,
   "id": "44312698-8735-492f-b44d-bc604279aee5",
   "metadata": {
    "deletable": false,
    "editable": false,
    "identifier": "ILE_BKT_1_7"
   },
   "outputs": [
    {
     "name": "stdout",
     "output_type": "stream",
     "text": [
      "BKT Results:\n",
      "RMSE: 0.491699052743496\n",
      "F1 Score: 0.7660601559598961\n",
      "Precision: 0.6228864734299517\n",
      "Recall: 0.9946962391513983\n"
     ]
    }
   ],
   "source": [
    "train_df, test_df = train_test_split(df_2, test_size=0.2, random_state=42)\n",
    "\n",
    "def BKT_predict(test_df, all_params):\n",
    "    \"\"\"\n",
    "    Predicts correctness for the test data using the learned parameters (P(L0), P(T), P(S), P(G))\n",
    "    and computes evaluation metrics (RMSE, F1 Score, Precision, Recall).\n",
    "    \"\"\"\n",
    "    predictions = []\n",
    "    ground_truths = []\n",
    "    \n",
    "    for student, group in test_df.groupby('Anon Student Id'):\n",
    "        P_L = {} \n",
    "        for _, row in group.iterrows():\n",
    "            skill = row['KC(Default)']\n",
    "            correct = row['Correct First Attempt']\n",
    "            if skill in all_params:\n",
    "                P_L0, P_T, P_S, P_G = all_params[skill]['P_L0'], all_params[skill]['P_T'], all_params[skill]['P_S'], all_params[skill]['P_G']\n",
    "            else:\n",
    "                P_L0, P_T, P_S, P_G = 0.2, 0.2, 0.2, 0.2\n",
    "            \n",
    "            if skill not in P_L:\n",
    "                P_L[skill] = P_L0\n",
    "\n",
    "            p_correct = P_L[skill] * (1 - P_S) + (1 - P_L[skill]) * P_G\n",
    "            predictions.append(p_correct)\n",
    "            ground_truths.append(correct)\n",
    "            P_L[skill], _ = bayesian_update(P_L[skill], correct, P_S, P_G, P_T)\n",
    "            \n",
    "\n",
    "    rmse = np.sqrt(mean_squared_error(ground_truths, predictions))\n",
    "    f1 = f1_score(ground_truths, np.round(predictions))\n",
    "    precision = precision_score(ground_truths, np.round(predictions))\n",
    "    recall = recall_score(ground_truths, np.round(predictions))\n",
    "    \n",
    "    return rmse, f1, precision, recall\n",
    "\n",
    "\n",
    "rmse, f1, precision, recall = BKT_predict(test_df, all_skill_params)\n",
    "\n",
    "\n",
    "print(\"BKT Results:\")\n",
    "print(\"RMSE:\", rmse)\n",
    "print(\"F1 Score:\", f1)\n",
    "print(\"Precision:\", precision)\n",
    "print(\"Recall:\", recall)"
   ]
  },
  {
   "cell_type": "markdown",
   "id": "51426ee4-c996-40b2-9470-255468b2efb8",
   "metadata": {
    "deletable": false,
    "editable": false
   },
   "source": [
    "# pyBKT (Optional: Try out yourself!)"
   ]
  },
  {
   "cell_type": "markdown",
   "id": "d69448e4-712b-45a4-a0fb-523be786e405",
   "metadata": {
    "deletable": false,
    "editable": false
   },
   "source": [
    "pyBKT is a python library of the Bayesian Knowledge Tracing algorithm and variants, estimating student cognitive mastery from problem solving sequences."
   ]
  },
  {
   "cell_type": "markdown",
   "id": "e36ab9a6-6e04-48b5-bb8d-1bb8f769992b",
   "metadata": {
    "deletable": false,
    "editable": false
   },
   "source": [
    "Install pyBKT and import their model"
   ]
  },
  {
   "cell_type": "code",
   "execution_count": 12,
   "id": "66a41916-893c-4fa8-8886-9fd5660d662c",
   "metadata": {
    "deletable": false,
    "editable": false,
    "identifier": "ILE_BKT_2_1"
   },
   "outputs": [
    {
     "name": "stdout",
     "output_type": "stream",
     "text": [
      "Requirement already satisfied: pyBKT in /Users/kais/Software/miniconda3/envs/ILE/lib/python3.10/site-packages (1.4.1)\n",
      "Requirement already satisfied: numpy in /Users/kais/Software/miniconda3/envs/ILE/lib/python3.10/site-packages (from pyBKT) (2.2.4)\n",
      "Requirement already satisfied: scikit-learn in /Users/kais/Software/miniconda3/envs/ILE/lib/python3.10/site-packages (from pyBKT) (1.6.1)\n",
      "Requirement already satisfied: pandas in /Users/kais/Software/miniconda3/envs/ILE/lib/python3.10/site-packages (from pyBKT) (2.2.3)\n",
      "Requirement already satisfied: requests in /Users/kais/Software/miniconda3/envs/ILE/lib/python3.10/site-packages (from pyBKT) (2.32.3)\n",
      "Requirement already satisfied: python-dateutil>=2.8.2 in /Users/kais/Software/miniconda3/envs/ILE/lib/python3.10/site-packages (from pandas->pyBKT) (2.9.0.post0)\n",
      "Requirement already satisfied: pytz>=2020.1 in /Users/kais/Software/miniconda3/envs/ILE/lib/python3.10/site-packages (from pandas->pyBKT) (2025.2)\n",
      "Requirement already satisfied: tzdata>=2022.7 in /Users/kais/Software/miniconda3/envs/ILE/lib/python3.10/site-packages (from pandas->pyBKT) (2025.2)\n",
      "Requirement already satisfied: six>=1.5 in /Users/kais/Software/miniconda3/envs/ILE/lib/python3.10/site-packages (from python-dateutil>=2.8.2->pandas->pyBKT) (1.17.0)\n",
      "Requirement already satisfied: charset_normalizer<4,>=2 in /Users/kais/Software/miniconda3/envs/ILE/lib/python3.10/site-packages (from requests->pyBKT) (3.4.2)\n",
      "Requirement already satisfied: idna<4,>=2.5 in /Users/kais/Software/miniconda3/envs/ILE/lib/python3.10/site-packages (from requests->pyBKT) (3.10)\n",
      "Requirement already satisfied: urllib3<3,>=1.21.1 in /Users/kais/Software/miniconda3/envs/ILE/lib/python3.10/site-packages (from requests->pyBKT) (2.4.0)\n",
      "Requirement already satisfied: certifi>=2017.4.17 in /Users/kais/Software/miniconda3/envs/ILE/lib/python3.10/site-packages (from requests->pyBKT) (2025.4.26)\n",
      "Requirement already satisfied: scipy>=1.6.0 in /Users/kais/Software/miniconda3/envs/ILE/lib/python3.10/site-packages (from scikit-learn->pyBKT) (1.15.2)\n",
      "Requirement already satisfied: joblib>=1.2.0 in /Users/kais/Software/miniconda3/envs/ILE/lib/python3.10/site-packages (from scikit-learn->pyBKT) (1.5.0)\n",
      "Requirement already satisfied: threadpoolctl>=3.1.0 in /Users/kais/Software/miniconda3/envs/ILE/lib/python3.10/site-packages (from scikit-learn->pyBKT) (3.6.0)\n"
     ]
    }
   ],
   "source": [
    "# Install pyBKT from pip!\n",
    "!pip install pyBKT\n",
    "from pyBKT.models import Model"
   ]
  },
  {
   "cell_type": "markdown",
   "id": "e8e41fc4-56e8-4c84-a8cd-ae9ffd35450e",
   "metadata": {
    "deletable": false,
    "editable": false
   },
   "source": [
    "The following is an example for usage "
   ]
  },
  {
   "cell_type": "code",
   "execution_count": null,
   "id": "1356371e-686a-4ff4-aab4-56dfb8b2b71f",
   "metadata": {
    "deletable": false,
    "editable": false,
    "identifier": "ILE_BKT_2_2"
   },
   "outputs": [],
   "source": [
    "# this cell is a sumary of key features from pyBKT, just for reference (you will not be able to modify this cell)\n",
    "# import necessary libraries (!pip install package-name)\n",
    "# choose and explore the dataset either data_1 or data_2\n",
    "\n",
    "def mae(true_vals, pred_vals):\n",
    "  \"\"\" Calculates the mean absolute error. \"\"\"\n",
    "  return np.mean(np.abs(true_vals - pred_vals))\n",
    "\n",
    "# This code fetches data, fits, predicts, evaluates and crossvalidates\n",
    "# a BKT model on all skills in Cognitive Tutor. It uses the mean absolute\n",
    "# error as the desired error metric.\n",
    "\n",
    "model = Model(seed = 42, num_fits = 5)\n",
    "model.fit(data_path = '') \n",
    "preds_df = model.predict(data_path = '')\n",
    "mae_error = model.evaluate(data_path = '', metric = mae)\n",
    "cv_errors = model.crossvalidate(data_path = '', metric = mae)\n",
    "model.fit(data_path = '')\n",
    "params_df = model.params()\n",
    "print(\"Training MAE: %f\" % mae_error)\n",
    "cv_errors"
   ]
  },
  {
   "cell_type": "markdown",
   "id": "dcf1fc58-9343-4373-b9a8-c1ece7943ec0",
   "metadata": {
    "deletable": false,
    "editable": false
   },
   "source": [
    "Try it yourself using the available data. If you need to import external libraries, you can install them using:  \n",
    "`!pip install package-name`"
   ]
  },
  {
   "cell_type": "markdown",
   "id": "aa766b0f-624b-4e49-841a-729491a2917d",
   "metadata": {
    "deletable": false,
    "editable": false
   },
   "source": [
    "### You will not be able to delete or add any new cells. Please only use the following three empty cells for implementation."
   ]
  },
  {
   "cell_type": "code",
   "execution_count": null,
   "id": "a9434289-27c4-4ddd-9306-ee78252a896d",
   "metadata": {
    "deletable": false,
    "editable": true,
    "identifier": "ILE_BKT_2_3"
   },
   "outputs": [],
   "source": [
    "## Your implementation"
   ]
  },
  {
   "cell_type": "code",
   "execution_count": null,
   "id": "174a9da2-aed7-4c94-9cdd-114ef7f78f36",
   "metadata": {
    "deletable": false,
    "editable": true,
    "identifier": "ILE_BKT_2_4"
   },
   "outputs": [],
   "source": [
    "## Your implementation"
   ]
  },
  {
   "cell_type": "code",
   "execution_count": null,
   "id": "c1510308-93d2-4f8b-a507-5a861b412cc9",
   "metadata": {
    "deletable": false,
    "editable": true,
    "identifier": "ILE_BKT_2_5"
   },
   "outputs": [],
   "source": [
    "## Your implementation"
   ]
  }
 ],
 "metadata": {
  "kernelspec": {
   "display_name": "Python 3 (ipykernel)",
   "language": "python",
   "name": "python3"
  },
  "language_info": {
   "codemirror_mode": {
    "name": "ipython",
    "version": 3
   },
   "file_extension": ".py",
   "mimetype": "text/x-python",
   "name": "python",
   "nbconvert_exporter": "python",
   "pygments_lexer": "ipython3",
   "version": "3.10.16"
  }
 },
 "nbformat": 4,
 "nbformat_minor": 5
}
